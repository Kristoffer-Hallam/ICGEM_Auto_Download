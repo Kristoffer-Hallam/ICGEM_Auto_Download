{
 "cells": [
  {
   "cell_type": "markdown",
   "metadata": {},
   "source": [
    "### Automatic ICGEM data download\n",
    "\n",
    "http://icgem.gfz-potsdam.de/home\n",
    "\n",
    "This notebook uses the selenium package and the Chrome webdriver to automatically download geophysical data from ICGEM website by inputting crucial information."
   ]
  },
  {
   "cell_type": "code",
   "execution_count": 1,
   "metadata": {},
   "outputs": [],
   "source": [
    "from selenium import webdriver\n",
    "from webdriver_manager.chrome import ChromeDriverManager\n",
    "from selenium.webdriver.common.keys import Keys\n",
    "from selenium.webdriver.common.by import By\n",
    "import time\n",
    "\n",
    "def load_driver(website):\n",
    "    ''' Opens Chrome driver and sets the ICGEM website\n",
    "    input >\n",
    "    website:     string   - website where chrome will navigate to\n",
    "    '''\n",
    "    #r/Users/admin/Learn_Python2/Hashtag_Lira/Plataforma_Ensino/Automation_Python-Web/chromedriver\n",
    "    browser = webdriver.Chrome(ChromeDriverManager().install())#executable_path=path)\n",
    "    browser.get(website)\n",
    "    time.sleep(2)\n",
    "    #     browser.find_element(By.NAME, 'Regular grids').click()\n",
    "    browser.find_element(By.XPATH, '//*[@id=\"menu\"]/a[5]').click()\n",
    "    time.sleep(2)\n",
    "    return browser\n",
    "\n",
    "def get_list_model(website):\n",
    "    ''' Opens Chrome driver and sets the ICGEM website\n",
    "    input >\n",
    "    website:     string   - website where chrome will navigate to\n",
    "    '''\n",
    "    #r/Users/admin/Learn_Python2/Hashtag_Lira/Plataforma_Ensino/Automation_Python-Web/chromedriver\n",
    "    browser = webdriver.Chrome(ChromeDriverManager().install())#executable_path=path)\n",
    "    browser.get(website)\n",
    "    time.sleep(2)\n",
    "    #     browser.find_element(By.NAME, 'Regular grids').click()\n",
    "    browser.find_element(By.XPATH, '//*[@id=\"menu\"]/a[2]').click()\n",
    "    time.sleep(5)\n",
    "    list_model = []\n",
    "    ind_max = browser.find_element(By.XPATH, '//*[@id=\"table_div\"]/div/div/table/tbody/tr[1]/td[1]').text\n",
    "    time.sleep(2)\n",
    "    for i in range(1, int(ind_max)):\n",
    "        model_name = browser.find_element(By.XPATH,\n",
    "                                          f'//*[@id=\"table_div\"]/div/div/table/tbody/tr[{i}]/td[2]')\n",
    "        list_model.append(model_name.text)\n",
    "    browser.close()\n",
    "    return list_model\n",
    "    \n",
    "def model_type_selection(browser):\n",
    "    ''' Selects the kind of model as follows:\n",
    "    \n",
    "             1- Longtime Model \\n\n",
    "             2- Model from Series \\n\n",
    "             3- Topography related Model \\n\n",
    "             4- Celestial Object Model \\n\n",
    "             5- Topography \\n\n",
    "             \n",
    "    input >\n",
    "    browser:            webdriver.Chrome instance\n",
    "    '''\n",
    "    dic_tipo = {\n",
    "        '1': 'Longtime Model',\n",
    "        '2': 'Model from Series',\n",
    "        '3': 'Topography related Model',\n",
    "        '4': 'Celestial Object Model',\n",
    "        '5': 'Topography',\n",
    "    }\n",
    "    #     type_model_window = browser.find_element(By.NAME, 'sel_type')\n",
    "    type_model_window = browser.find_element(By.XPATH, '//*[@id=\"model_sel\"]/select')\n",
    "    type_model_window.click()\n",
    "    tipo = input(\"\"\" \\n Select the number related to the desired type of model \\n\n",
    "    \\t \\t 1- Longtime Model \\n\n",
    "    \\t \\t 2- Model from Series \\n\n",
    "    \\t \\t 3- Topography related Model \\n\n",
    "    \\t \\t 4- Celestial Object Model \\n\n",
    "    \\t \\t 5- Topography \\n\n",
    "    \"\"\")\n",
    "    assert tipo.isdigit(), 'Please select one of the displayed numbers!'\n",
    "    for model_index in dic_tipo.keys():\n",
    "        if model_index == tipo:\n",
    "            tipo = dic_tipo[model_index]\n",
    "    tags = type_model_window.find_elements_by_tag_name('option')\n",
    "    for i, tag in enumerate(tags):\n",
    "        if tag.text == tipo:\n",
    "            tag.click()\n",
    "    time.sleep(2)\n",
    "    \n",
    "def model_selection(browser, list_model):\n",
    "    ''' Selects the model\n",
    "    \n",
    "    input >\n",
    "    browser:            webdriver.Chrome instance\n",
    "    model_name:         string of the model name\n",
    "    '''\n",
    "    model_name = input('Download data from which model?')\n",
    "    while model_name not in list_model:\n",
    "        print('The input model does not exist')\n",
    "        model_name = input('Please retype the model for download ').upper()\n",
    "    #     model_window = browser.find_element(By.CLASS_NAME, 'col')\n",
    "    model_window = browser.find_element(By.XPATH, '//*[@id=\"sel_single\"]/select')\n",
    "    model_window.click()\n",
    "    model_window.send_keys(model_name)\n",
    "    time.sleep(3)\n",
    "    \n",
    "def get_list_functional(browser):\n",
    "    list_functional = []\n",
    "    ind_max = len(browser.find_element(By.XPATH, '//*[@id=\"content\"]/form/div[3]/select').find_elements(By.TAG_NAME, 'option'))\n",
    "    for i in range(1, ind_max):\n",
    "        func_name = browser.find_element(By.XPATH, f'//*[@id=\"content\"]/form/div[3]/select/option[{i}]').text\n",
    "        list_functional.append(func_name)\n",
    "    return list_functional\n",
    "    \n",
    "def functional_selection(browser):\n",
    "    ''' Selects the functional observable to be downloaded\n",
    "    \n",
    "    input >\n",
    "    browser:            webdriver.Chrome instance\n",
    "    functional:         string of the functional name\n",
    "    '''\n",
    "    list_functional = get_list_functional(browser)\n",
    "    time.sleep(3)\n",
    "    functional = input(f'''Choose between the following functionals:\n",
    "    {list_functional}\n",
    "    ''')\n",
    "    while functional not in list_functional:\n",
    "        print('The input functional does not exist')\n",
    "        functional = input('Data should be from which observable?')\n",
    "    #     functional = 'gravity_earth'\n",
    "    #     functional_window = browser.find_element(By.NAME, 'sel_func')\n",
    "    functional_window = browser.find_element(By.XPATH, '/html/body/div[2]/form/div[3]/select')\n",
    "    functional_window.click() #'//*[@id=\"model_sel\"]/select'\n",
    "    functional_window.send_keys(functional)\n",
    "    time.sleep(3)\n",
    "    \n",
    "def grid_selection(browser):\n",
    "    ''' Sets the area from which the data is related to\n",
    "    \n",
    "    input >\n",
    "    browser:            webdriver.Chrome instance\n",
    "    '''\n",
    "    # Left Latitude \n",
    "    longitude_esq = input('Enter left longitude limit of the grid...')\n",
    "    # longitude_esq = str(-75)\n",
    "    while int(longitude_esq) < -180:\n",
    "        longitude_esq = input('Reenter left longitude limit of the grid...')\n",
    "    browser.find_element(By.NAME, 'grid_left').click()\n",
    "    browser.find_element(By.NAME, 'grid_left').click()\n",
    "    browser.find_element(By.NAME, 'grid_left').send_keys(Keys.END)\n",
    "    browser.find_element(By.NAME, 'grid_left').send_keys(Keys.BACKSPACE)\n",
    "    browser.find_element(By.NAME, 'grid_left').send_keys(Keys.BACKSPACE)\n",
    "    browser.find_element(By.NAME, 'grid_left').send_keys(Keys.BACKSPACE)\n",
    "    browser.find_element(By.NAME, 'grid_left').send_keys(Keys.BACKSPACE)\n",
    "    browser.find_element(By.NAME, 'grid_left').send_keys(longitude_esq) # '-75'\n",
    "    time.sleep(2)\n",
    "    # Right Latitude \n",
    "    longitude_dir = input('Enter right longitude limit of the grid...')\n",
    "    #longitude_dir = str(-32)\n",
    "    while int(longitude_dir) > 180:\n",
    "        longitude_dir = input('Reenter right longitude limit of the grid...')\n",
    "    browser.find_element(By.NAME, 'grid_right').click()\n",
    "    browser.find_element(By.NAME, 'grid_right').send_keys(Keys.END)\n",
    "    browser.find_element(By.NAME, 'grid_right').send_keys(Keys.BACKSPACE)\n",
    "    browser.find_element(By.NAME, 'grid_right').send_keys(Keys.BACKSPACE)\n",
    "    browser.find_element(By.NAME, 'grid_right').send_keys(Keys.BACKSPACE)\n",
    "    browser.find_element(By.NAME, 'grid_right').send_keys(Keys.BACKSPACE)\n",
    "    browser.find_element(By.NAME, 'grid_right').send_keys(longitude_dir) #'-32'\n",
    "    time.sleep(2)\n",
    "    # Upper Longitude\n",
    "    latitude_acima = input('Enter top latitude limit of the grid...')\n",
    "    #latitude_acima = str(6)\n",
    "    while int(latitude_acima) > 90:\n",
    "        latitude_acima = input('Reenter top latitude limit of the grid...')\n",
    "    browser.find_element(By.NAME, 'grid_top').click()\n",
    "    browser.find_element(By.NAME, 'grid_top').send_keys(Keys.END)\n",
    "    browser.find_element(By.NAME, 'grid_top').send_keys(Keys.BACKSPACE)\n",
    "    browser.find_element(By.NAME, 'grid_top').send_keys(Keys.BACKSPACE)\n",
    "    browser.find_element(By.NAME, 'grid_top').send_keys(Keys.BACKSPACE)\n",
    "    browser.find_element(By.NAME, 'grid_top').send_keys(Keys.BACKSPACE)\n",
    "    browser.find_element(By.NAME, 'grid_top').send_keys(latitude_acima) #'6'\n",
    "    time.sleep(2)\n",
    "    # Lower Longitude\n",
    "    latitude_abaixo = input('Enter bottom latitude limit of the grid...')\n",
    "    #latitude_abaixo = str(-35)\n",
    "    while int(latitude_abaixo) < -90:\n",
    "        latitude_abaixo = input('Reenter bottom latitude limit of the grid...')\n",
    "    browser.find_element(By.NAME, 'grid_bottom').click()\n",
    "    browser.find_element(By.NAME, 'grid_bottom').send_keys(Keys.END)\n",
    "    browser.find_element(By.NAME, 'grid_bottom').send_keys(Keys.BACKSPACE)\n",
    "    browser.find_element(By.NAME, 'grid_bottom').send_keys(Keys.BACKSPACE)\n",
    "    browser.find_element(By.NAME, 'grid_bottom').send_keys(Keys.BACKSPACE)\n",
    "    browser.find_element(By.NAME, 'grid_bottom').send_keys(Keys.BACKSPACE)\n",
    "    browser.find_element(By.NAME, 'grid_bottom').send_keys(latitude_abaixo) #'-35'\n",
    "    time.sleep(2)\n",
    "    # Grid Step\n",
    "    espacamento = input('Enter grid spacing...')\n",
    "    browser.find_element(By.NAME, 'grid_step').click()\n",
    "    browser.find_element(By.NAME, 'grid_step').send_keys(Keys.END)\n",
    "    browser.find_element(By.NAME, 'grid_step').send_keys(Keys.BACKSPACE)\n",
    "    browser.find_element(By.NAME, 'grid_step').send_keys(Keys.BACKSPACE)\n",
    "    browser.find_element(By.NAME, 'grid_step').send_keys(Keys.BACKSPACE)\n",
    "    browser.find_element(By.NAME, 'grid_step').send_keys(Keys.BACKSPACE)\n",
    "    browser.find_element(By.NAME, 'grid_step').send_keys(espacamento) #'2'\n",
    "    time.sleep(2)\n",
    "    \n",
    "# def click_start_computation(browser):\n",
    "#     ''' Clicks on Start Computation button and waits until data is fully calculated\n",
    "#     for download on the new tab\n",
    "    \n",
    "#     input >\n",
    "#     browser:            webdriver.Chrome instance\n",
    "#     '''\n",
    "#     submit = browser.find_elements_by_tag_name('input')[-1]\n",
    "#     submit.click()\n",
    "    \n",
    "#     browser.switch_to.window(browser.window_handles[-1])\n",
    "#     print(browser.title)\n",
    "#     print(browser.find_element_by_link_text('Download Grid').text)\n",
    "#     print(browser.find_element_by_xpath(\n",
    "#         '/html/body/div[3]/div/div[1]/table/tbody/tr[7]/td/b[1]/a'\n",
    "#     ).text)\n",
    "#     input()\n",
    "#     while str(100) not in browser.find_element_by_id('progress_bar').get_attribute('style'):\n",
    "#         time.sleep(1)\n",
    "#     browser.find_element_by_link_text('Download Grid').click()\n",
    "#     browser.find_element_by_xpath('/html/body/div[3]/div/div[1]/table/tbody/tr[7]/td/b[1]/a').click()"
   ]
  },
  {
   "cell_type": "code",
   "execution_count": 2,
   "metadata": {},
   "outputs": [
    {
     "name": "stderr",
     "output_type": "stream",
     "text": [
      "\n",
      "\n",
      "====== WebDriver manager ======\n",
      "Current google-chrome version is 99.0.4844\n",
      "Get LATEST chromedriver version for 99.0.4844 google-chrome\n",
      "Driver [/Users/admin/.wdm/drivers/chromedriver/mac64/99.0.4844.51/chromedriver] found in cache\n",
      "/var/folders/xt/qpy7_yjd7_g89yx6hv6669gw0000gn/T/ipykernel_44240/4118685684.py:27: DeprecationWarning: executable_path has been deprecated, please pass in a Service object\n",
      "  browser = webdriver.Chrome(ChromeDriverManager().install())#executable_path=path)\n",
      "\n",
      "\n",
      "====== WebDriver manager ======\n",
      "Current google-chrome version is 99.0.4844\n",
      "Get LATEST chromedriver version for 99.0.4844 google-chrome\n",
      "Driver [/Users/admin/.wdm/drivers/chromedriver/mac64/99.0.4844.51/chromedriver] found in cache\n",
      "/var/folders/xt/qpy7_yjd7_g89yx6hv6669gw0000gn/T/ipykernel_44240/4118685684.py:13: DeprecationWarning: executable_path has been deprecated, please pass in a Service object\n",
      "  browser = webdriver.Chrome(ChromeDriverManager().install())#executable_path=path)\n"
     ]
    }
   ],
   "source": [
    "website = \"http://icgem.gfz-potsdam.de/home\"\n",
    "list_model = get_list_model(website)\n",
    "browser = load_driver(website)"
   ]
  },
  {
   "cell_type": "code",
   "execution_count": 3,
   "metadata": {},
   "outputs": [
    {
     "name": "stdout",
     "output_type": "stream",
     "text": [
      " \n",
      " Select the number related to the desired type of model \n",
      "\n",
      "    \t \t 1- Longtime Model \n",
      "\n",
      "    \t \t 2- Model from Series \n",
      "\n",
      "    \t \t 3- Topography related Model \n",
      "\n",
      "    \t \t 4- Celestial Object Model \n",
      "\n",
      "    \t \t 5- Topography \n",
      "\n",
      "    1\n"
     ]
    },
    {
     "name": "stderr",
     "output_type": "stream",
     "text": [
      "/Users/admin/anaconda/anaconda3/lib/python3.9/site-packages/selenium/webdriver/remote/webelement.py:359: UserWarning: find_elements_by_* commands are deprecated. Please use find_elements() instead\n",
      "  warnings.warn(\"find_elements_by_* commands are deprecated. Please use find_elements() instead\")\n"
     ]
    }
   ],
   "source": [
    "model_type_selection(browser)"
   ]
  },
  {
   "cell_type": "code",
   "execution_count": 4,
   "metadata": {},
   "outputs": [
    {
     "name": "stdout",
     "output_type": "stream",
     "text": [
      "Download data from which model?EIGEN-6C4\n"
     ]
    }
   ],
   "source": [
    "model_selection(browser, list_model)"
   ]
  },
  {
   "cell_type": "code",
   "execution_count": 5,
   "metadata": {},
   "outputs": [
    {
     "name": "stdout",
     "output_type": "stream",
     "text": [
      "Choose between the following functionals:\n",
      "    ['height_anomaly', 'height_anomaly_ell', 'geoid', 'gravity_disturbance', 'gravity_disturbance_sa', 'gravity_anomaly', 'gravity_anomaly_cl', 'gravity_anomaly_sa', 'gravity_anomaly_bg', 'gravity_earth', 'gravity_ell', 'potential_ell', 'gravitation_ell', 'second_r_derivative']\n",
      "    gravity_ell\n"
     ]
    }
   ],
   "source": [
    "functional_selection(browser)"
   ]
  },
  {
   "cell_type": "code",
   "execution_count": 6,
   "metadata": {},
   "outputs": [
    {
     "name": "stdout",
     "output_type": "stream",
     "text": [
      "Enter left longitude limit of the grid...-75\n",
      "Enter right longitude limit of the grid...-32\n",
      "Enter top latitude limit of the grid...6\n",
      "Enter bottom latitude limit of the grid...-35\n",
      "Enter grid spacing...1\n"
     ]
    }
   ],
   "source": [
    "grid_selection(browser)"
   ]
  },
  {
   "cell_type": "code",
   "execution_count": 7,
   "metadata": {},
   "outputs": [
    {
     "name": "stderr",
     "output_type": "stream",
     "text": [
      "/var/folders/xt/qpy7_yjd7_g89yx6hv6669gw0000gn/T/ipykernel_44240/2589856222.py:1: DeprecationWarning: find_elements_by_* commands are deprecated. Please use find_elements() instead\n",
      "  submit = browser.find_elements_by_tag_name('input')[-1]\n"
     ]
    }
   ],
   "source": [
    "submit = browser.find_elements_by_tag_name('input')[-1]\n",
    "submit.click()\n",
    "#"
   ]
  },
  {
   "cell_type": "code",
   "execution_count": 8,
   "metadata": {},
   "outputs": [],
   "source": [
    "browser.switch_to.window(browser.window_handles[-1])\n",
    "# print(browser.title)\n",
    "# print(browser.find_element(By.XPATH,\n",
    "#     '/html/body/div[3]/div/div[1]/table/tbody/tr[7]/td/b[1]/a'\n",
    "# ).text)"
   ]
  },
  {
   "cell_type": "code",
   "execution_count": 9,
   "metadata": {},
   "outputs": [],
   "source": [
    "while str(100) not in browser.find_element(By.ID,\n",
    "                                           'progress_bar').get_attribute('style'):\n",
    "    time.sleep(1)\n",
    "browser.find_element(By.XPATH,\n",
    "                     '/html/body/div[3]/div/div[1]/table/tbody/tr[7]/td/b[1]/a'\n",
    "                    ).click()"
   ]
  },
  {
   "cell_type": "code",
   "execution_count": 10,
   "metadata": {},
   "outputs": [],
   "source": [
    "lista = ['coca', 'guaraná', 'pepsi', 'cerveja']"
   ]
  },
  {
   "cell_type": "code",
   "execution_count": null,
   "metadata": {},
   "outputs": [],
   "source": []
  }
 ],
 "metadata": {
  "kernelspec": {
   "display_name": "Python 3 (ipykernel)",
   "language": "python",
   "name": "python3"
  },
  "language_info": {
   "codemirror_mode": {
    "name": "ipython",
    "version": 3
   },
   "file_extension": ".py",
   "mimetype": "text/x-python",
   "name": "python",
   "nbconvert_exporter": "python",
   "pygments_lexer": "ipython3",
   "version": "3.9.7"
  },
  "varInspector": {
   "cols": {
    "lenName": 16,
    "lenType": 16,
    "lenVar": 40
   },
   "kernels_config": {
    "python": {
     "delete_cmd_postfix": "",
     "delete_cmd_prefix": "del ",
     "library": "var_list.py",
     "varRefreshCmd": "print(var_dic_list())"
    },
    "r": {
     "delete_cmd_postfix": ") ",
     "delete_cmd_prefix": "rm(",
     "library": "var_list.r",
     "varRefreshCmd": "cat(var_dic_list()) "
    }
   },
   "types_to_exclude": [
    "module",
    "function",
    "builtin_function_or_method",
    "instance",
    "_Feature"
   ],
   "window_display": false
  }
 },
 "nbformat": 4,
 "nbformat_minor": 4
}
