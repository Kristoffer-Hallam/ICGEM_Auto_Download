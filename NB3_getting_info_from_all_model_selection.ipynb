{
 "cells": [
  {
   "cell_type": "code",
   "execution_count": 1,
   "id": "9cc66d31",
   "metadata": {},
   "outputs": [],
   "source": [
    "from selenium import webdriver\n",
    "from webdriver_manager.chrome import ChromeDriverManager\n",
    "from selenium.webdriver.common.keys import Keys\n",
    "from selenium.webdriver.common.by import By\n",
    "import time\n",
    "\n",
    "\n",
    "def load_driver():\n",
    "    ''' Opens Chrome driver and sets the ICGEM website\n",
    "    '''\n",
    "    # r/Users/admin/Learn_Python2/Hashtag_Lira/Plataforma_Ensino/Automation_Python-Web/chromedriver\n",
    "    # executable_path=path)\n",
    "    browser = webdriver.Chrome(ChromeDriverManager().install())\n",
    "    browser.get(\"http://icgem.gfz-potsdam.de/home\")\n",
    "    time.sleep(2)\n",
    "    browser.find_element(By.XPATH, '//*[@id=\"menu\"]/a[5]').click()\n",
    "    time.sleep(5)\n",
    "    return browser"
   ]
  },
  {
   "cell_type": "code",
   "execution_count": 2,
   "id": "011b45cc",
   "metadata": {},
   "outputs": [
    {
     "name": "stderr",
     "output_type": "stream",
     "text": [
      "\n",
      "\n",
      "====== WebDriver manager ======\n",
      "Current google-chrome version is 99.0.4844\n",
      "Get LATEST chromedriver version for 99.0.4844 google-chrome\n",
      "Driver [/Users/admin/.wdm/drivers/chromedriver/mac64/99.0.4844.51/chromedriver] found in cache\n",
      "/var/folders/xt/qpy7_yjd7_g89yx6hv6669gw0000gn/T/ipykernel_44486/934518841.py:13: DeprecationWarning: executable_path has been deprecated, please pass in a Service object\n",
      "  browser = webdriver.Chrome(ChromeDriverManager().install())\n"
     ]
    }
   ],
   "source": [
    "browser = load_driver()"
   ]
  },
  {
   "cell_type": "code",
   "execution_count": 3,
   "id": "085792d6",
   "metadata": {},
   "outputs": [],
   "source": [
    "dic_tipo = {\n",
    "        '1': 'Longtime Model',\n",
    "        '2': 'Model from Series',\n",
    "        '3': 'Topography related Model',\n",
    "        '4': 'Celestial Object Model',\n",
    "        '5': 'Topography',\n",
    "    }\n",
    "# Longtime model\n",
    "type_model_window = browser.find_element(By.XPATH, '/html/body/div[2]/form/div[1]/select')\n",
    "type_model_window.click()"
   ]
  },
  {
   "cell_type": "code",
   "execution_count": null,
   "id": "4056d106",
   "metadata": {},
   "outputs": [],
   "source": [
    "tags = type_model_window.find_elements(By.TAG_NAME, 'option')\n",
    "model = {}\n",
    "for i, tag in enumerate(tags):\n",
    "    tag.click()\n",
    "    if tag.text == 'Model from Series':#content > form > div.func_sel > select\n",
    "        model.update(\n",
    "            {\n",
    "            tag.text: {\n",
    "                'left': browser.find_element(By.XPATH, '//*[@id=\"sel_series\"]/select[1]').text.split('\\n'),\n",
    "                'center': browser.find_element(By.XPATH, '//*[@id=\"sel_series\"]/select[2]').text.split('\\n'),\n",
    "                'right': browser.find_element(By.XPATH, '//*[@id=\"sel_series\"]/select[3]').text.split('\\n'),\n",
    "                'functional': browser.find_element(By.XPATH, '//*[@id=\"content\"]/form/div[3]/select').text.split('\\n')\n",
    "            }\n",
    "            }\n",
    "        )\n",
    "    elif tag.text == 'Celestial Object Model':\n",
    "        model.update(\n",
    "            {\n",
    "                tag.text: {\n",
    "                    'model': browser.find_element(By.XPATH, '//*[@id=\"sel_object\"]/select[1]').text.split('\\n'),\n",
    "                    'functional': browser.find_element(By.XPATH, '//*[@id=\"content\"]/form/div[3]/select').text.split('\\n')\n",
    "                }\n",
    "            }\n",
    "        )\n",
    "    else:\n",
    "        model.update(\n",
    "            {\n",
    "                tag.text: {\n",
    "                    'model': browser.find_element(By.XPATH, '//*[@id=\"sel_single\"]/select').text.split('\\n'),\n",
    "                    'functional': browser.find_element(By.XPATH, '//*[@id=\"content\"]/form/div[3]/select').text.split('\\n')\n",
    "                }\n",
    "            }\n",
    "        )"
   ]
  },
  {
   "cell_type": "code",
   "execution_count": 6,
   "id": "697af6fc",
   "metadata": {
    "scrolled": true
   },
   "outputs": [
    {
     "data": {
      "text/plain": [
       "'01_GRACE/CSR - CSR Release 05\\n01_GRACE/CSR - CSR Release 06\\n01_GRACE/CSR - CSR Release 06 (GFO)\\n01_GRACE/GFZ - GFZ Release 05\\n01_GRACE/GFZ - GFZ Release 06\\n01_GRACE/GFZ - GFZ Release 06 (GFO)\\n01_GRACE/JPL - JPL Release 05\\n01_GRACE/JPL - JPL Release 06\\n01_GRACE/JPL - JPL Release 06 (GFO)\\n02_COST-G - Swarm'"
      ]
     },
     "execution_count": 6,
     "metadata": {},
     "output_type": "execute_result"
    }
   ],
   "source": [
    "browser.find_element(By.XPATH, '//*[@id=\"sel_series\"]/select[1]').text"
   ]
  },
  {
   "cell_type": "code",
   "execution_count": 7,
   "id": "446dc6f2",
   "metadata": {},
   "outputs": [
    {
     "data": {
      "text/plain": [
       "'DDK1\\nDDK2\\nDDK3\\nDDK4\\nDDK5\\nDDK6\\nDDK7\\nDDK8\\nunfiltered'"
      ]
     },
     "execution_count": 7,
     "metadata": {},
     "output_type": "execute_result"
    }
   ],
   "source": [
    "browser.find_element(By.XPATH, '//*[@id=\"sel_series\"]/select[2]').text"
   ]
  },
  {
   "cell_type": "code",
   "execution_count": 8,
   "id": "a55d1370",
   "metadata": {},
   "outputs": [
    {
     "data": {
      "text/plain": [
       "'height_anomaly\\nheight_anomaly_ell\\ngeoid\\ngravity_disturbance\\ngravity_disturbance_sa\\ngravity_anomaly\\ngravity_anomaly_cl\\ngravity_anomaly_sa\\ngravity_anomaly_bg\\ngravity_earth\\ngravity_ell\\npotential_ell\\ngravitation_ell\\nsecond_r_derivative\\nwater_column'"
      ]
     },
     "execution_count": 8,
     "metadata": {},
     "output_type": "execute_result"
    }
   ],
   "source": [
    "browser.find_element(By.XPATH, '//*[@id=\"content\"]/form/div[3]/select').text"
   ]
  },
  {
   "cell_type": "code",
   "execution_count": null,
   "id": "92b3bab4",
   "metadata": {},
   "outputs": [],
   "source": []
  }
 ],
 "metadata": {
  "kernelspec": {
   "display_name": "Python 3 (ipykernel)",
   "language": "python",
   "name": "python3"
  },
  "language_info": {
   "codemirror_mode": {
    "name": "ipython",
    "version": 3
   },
   "file_extension": ".py",
   "mimetype": "text/x-python",
   "name": "python",
   "nbconvert_exporter": "python",
   "pygments_lexer": "ipython3",
   "version": "3.9.7"
  },
  "varInspector": {
   "cols": {
    "lenName": 16,
    "lenType": 16,
    "lenVar": 40
   },
   "kernels_config": {
    "python": {
     "delete_cmd_postfix": "",
     "delete_cmd_prefix": "del ",
     "library": "var_list.py",
     "varRefreshCmd": "print(var_dic_list())"
    },
    "r": {
     "delete_cmd_postfix": ") ",
     "delete_cmd_prefix": "rm(",
     "library": "var_list.r",
     "varRefreshCmd": "cat(var_dic_list()) "
    }
   },
   "types_to_exclude": [
    "module",
    "function",
    "builtin_function_or_method",
    "instance",
    "_Feature"
   ],
   "window_display": false
  }
 },
 "nbformat": 4,
 "nbformat_minor": 5
}
