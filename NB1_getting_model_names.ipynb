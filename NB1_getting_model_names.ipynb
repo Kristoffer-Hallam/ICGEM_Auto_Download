{
 "cells": [
  {
   "cell_type": "code",
   "execution_count": 1,
   "id": "75d7f029",
   "metadata": {},
   "outputs": [],
   "source": [
    "from selenium import webdriver\n",
    "from webdriver_manager.chrome import ChromeDriverManager\n",
    "from selenium.webdriver.common.keys import Keys\n",
    "from selenium.webdriver.common.by import By\n",
    "import time\n",
    "\n",
    "def load_driver():\n",
    "    ''' Opens Chrome driver and sets the ICGEM website\n",
    "    '''\n",
    "    #r/Users/admin/Learn_Python2/Hashtag_Lira/Plataforma_Ensino/Automation_Python-Web/chromedriver\n",
    "    browser = webdriver.Chrome(ChromeDriverManager().install())#executable_path=path)\n",
    "    browser.get(\"http://icgem.gfz-potsdam.de/home\")\n",
    "    time.sleep(2)\n",
    "    # Static Models button\n",
    "    browser.find_element(By.XPATH, '//*[@id=\"menu\"]/a[2]').click()\n",
    "    time.sleep(5)\n",
    "    return browser"
   ]
  },
  {
   "cell_type": "code",
   "execution_count": 2,
   "id": "367221ab",
   "metadata": {},
   "outputs": [
    {
     "name": "stderr",
     "output_type": "stream",
     "text": [
      "\n",
      "\n",
      "====== WebDriver manager ======\n",
      "Current google-chrome version is 99.0.4844\n",
      "Get LATEST chromedriver version for 99.0.4844 google-chrome\n",
      "Driver [/Users/admin/.wdm/drivers/chromedriver/mac64/99.0.4844.51/chromedriver] found in cache\n",
      "/var/folders/xt/qpy7_yjd7_g89yx6hv6669gw0000gn/T/ipykernel_40035/2944755097.py:11: DeprecationWarning: executable_path has been deprecated, please pass in a Service object\n",
      "  browser = webdriver.Chrome(ChromeDriverManager().install())#executable_path=path)\n"
     ]
    }
   ],
   "source": [
    "browser = load_driver()"
   ]
  },
  {
   "cell_type": "code",
   "execution_count": 3,
   "id": "56ad7934",
   "metadata": {},
   "outputs": [],
   "source": [
    "content = browser.find_element(By.XPATH, '//*[@id=\"table_div\"]/div/div/table/tbody/tr[1]/td[2]')"
   ]
  },
  {
   "cell_type": "code",
   "execution_count": 4,
   "id": "7b96bed3",
   "metadata": {},
   "outputs": [
    {
     "data": {
      "text/plain": [
       "'SGG-UGM-2'"
      ]
     },
     "execution_count": 4,
     "metadata": {},
     "output_type": "execute_result"
    }
   ],
   "source": [
    "content.text"
   ]
  },
  {
   "cell_type": "code",
   "execution_count": 5,
   "id": "c81b79bb",
   "metadata": {},
   "outputs": [],
   "source": [
    "content2 = browser.find_element(By.XPATH, '//*[@id=\"table_div\"]/div/div/table/tbody/tr[2]/td[2]')"
   ]
  },
  {
   "cell_type": "code",
   "execution_count": 6,
   "id": "f36cc1dd",
   "metadata": {},
   "outputs": [
    {
     "data": {
      "text/plain": [
       "'XGM2019e_2159'"
      ]
     },
     "execution_count": 6,
     "metadata": {},
     "output_type": "execute_result"
    }
   ],
   "source": [
    "content2.text"
   ]
  },
  {
   "cell_type": "code",
   "execution_count": 7,
   "id": "cf4f74c6",
   "metadata": {},
   "outputs": [
    {
     "data": {
      "text/plain": [
       "'Model'"
      ]
     },
     "execution_count": 7,
     "metadata": {},
     "output_type": "execute_result"
    }
   ],
   "source": [
    "Model_col = browser.find_element(By.XPATH, '//*[@id=\"table_div\"]/div/div/table/thead/tr/th[2]')\n",
    "Model_col.text"
   ]
  },
  {
   "cell_type": "code",
   "execution_count": 8,
   "id": "7f648592",
   "metadata": {},
   "outputs": [
    {
     "name": "stdout",
     "output_type": "stream",
     "text": [
      "177 <class 'int'>\n"
     ]
    }
   ],
   "source": [
    "ind_max = browser.find_element(By.XPATH, '//*[@id=\"table_div\"]/div/div/table/tbody/tr[1]/td[1]').text\n",
    "print(ind_max, type(int(ind_max)))"
   ]
  },
  {
   "cell_type": "code",
   "execution_count": 9,
   "id": "36e63ae9",
   "metadata": {},
   "outputs": [],
   "source": [
    "list_model = []\n",
    "ind_max = browser.find_element(By.XPATH, '//*[@id=\"table_div\"]/div/div/table/tbody/tr[1]/td[1]').text\n",
    "for i in range(1, int(ind_max)):\n",
    "    model_name = browser.find_element(By.XPATH,\n",
    "                                     f'//*[@id=\"table_div\"]/div/div/table/tbody/tr[{i}]/td[2]')\n",
    "    list_model.append(model_name.text)"
   ]
  },
  {
   "cell_type": "code",
   "execution_count": 10,
   "id": "d2a060a8",
   "metadata": {},
   "outputs": [],
   "source": [
    "# browser.find_element(By.CSS_SELECTOR, '#table_div > div > div > table > tbody > tr:nth-child(1) > td.tom-cell-name.tom-cell-table')"
   ]
  },
  {
   "cell_type": "code",
   "execution_count": 11,
   "id": "97bed9e1",
   "metadata": {},
   "outputs": [
    {
     "name": "stdout",
     "output_type": "stream",
     "text": [
      "176\n"
     ]
    }
   ],
   "source": [
    "print(len(list_model))"
   ]
  },
  {
   "cell_type": "code",
   "execution_count": 12,
   "id": "4da80530",
   "metadata": {},
   "outputs": [
    {
     "name": "stdout",
     "output_type": "stream",
     "text": [
      "SGG-UGM-2\n",
      "XGM2019e_2159\n",
      "GO_CONS_GCF_2_TIM_R6e\n",
      "ITSG-Grace2018s\n",
      "EIGEN-GRGS.RL04.MEAN-FIELD\n",
      "GOCO06s\n",
      "GO_CONS_GCF_2_TIM_R6\n",
      "GO_CONS_GCF_2_DIR_R6\n",
      "IGGT_R1C\n",
      "Tongji-Grace02k\n",
      "SGG-UGM-1\n",
      "GOSG01S\n",
      "IGGT_R1\n",
      "IfE_GOCE05s\n",
      "GO_CONS_GCF_2_SPW_R5\n",
      "GAO2012\n",
      "XGM2016\n",
      "Tongji-Grace02s\n",
      "NULP-02s\n",
      "HUST-Grace2016s\n",
      "ITU_GRACE16\n",
      "ITU_GGC16\n",
      "EIGEN-6S4 (v2)\n",
      "GOCO05c\n",
      "GGM05C\n",
      "GECO\n",
      "GGM05G\n",
      "GOCO05s\n",
      "GO_CONS_GCF_2_SPW_R4\n",
      "EIGEN-6C4\n",
      "ITSG-Grace2014s\n",
      "ITSG-Grace2014k\n",
      "GO_CONS_GCF_2_TIM_R5\n",
      "GO_CONS_GCF_2_DIR_R5\n",
      "JYY_GOCE04S\n",
      "GOGRA04S\n",
      "EIGEN-6S2\n",
      "GGM05S\n",
      "EIGEN-6C3stat\n",
      "Tongji-GRACE01\n",
      "JYY_GOCE02S\n",
      "GOGRA02S\n",
      "ULux_CHAMP2013s\n",
      "ITG-Goce02\n",
      "GO_CONS_GCF_2_TIM_R4\n",
      "GO_CONS_GCF_2_DIR_R4\n",
      "EIGEN-6C2\n",
      "DGM-1S\n",
      "GOCO03s\n",
      "GO_CONS_GCF_2_DIR_R3\n",
      "GO_CONS_GCF_2_TIM_R3\n",
      "GIF48\n",
      "EIGEN-6C\n",
      "EIGEN-6S\n",
      "GOCO02s\n",
      "AIUB-GRACE03S\n",
      "GO_CONS_GCF_2_DIR_R2\n",
      "GO_CONS_GCF_2_TIM_R2\n",
      "GO_CONS_GCF_2_SPW_R2\n",
      "GO_CONS_GCF_2_DIR_R1\n",
      "GO_CONS_GCF_2_TIM_R1\n",
      "GO_CONS_GCF_2_SPW_R1\n",
      "GOCO01S\n",
      "EIGEN-51C\n",
      "AIUB-CHAMP03S\n",
      "EIGEN-CHAMP05S\n",
      "ITG-Grace2010s\n",
      "AIUB-GRACE02S\n",
      "GGM03C\n",
      "GGM03S\n",
      "AIUB-GRACE01S\n",
      "EIGEN-5S\n",
      "EIGEN-5C\n",
      "EGM2008\n",
      "ITG-Grace03\n",
      "AIUB-CHAMP01S\n",
      "ITG-Grace02s\n",
      "EIGEN-GL04S1\n",
      "EIGEN-GL04C\n",
      "eigen-cg03c\n",
      "GGM02C\n",
      "GGM02S\n",
      "EIGEN-CG01C\n",
      "EIGEN-CHAMP03S\n",
      "EIGEN-GRACE02S\n",
      "TUM-2S\n",
      "DEOS_CHAMP-01C\n",
      "ITG_Champ01K\n",
      "ITG_Champ01S\n",
      "ITG_Champ01E\n",
      "TUM-2Sp\n",
      "TUM-1S\n",
      "GGM01C\n",
      "GGM01S\n",
      "EIGEN-GRACE01S\n",
      "EIGEN-CHAMP03Sp\n",
      "EIGEN-2\n",
      "EIGEN-1\n",
      "EIGEN-1s\n",
      "PGM2000a\n",
      "TEG4\n",
      "GRIM5c1\n",
      "GRIM5s1\n",
      "GRIM4S4G\n",
      "GFZ97\n",
      "EGM96\n",
      "GFZ96\n",
      "TEG3\n",
      "EGM96s\n",
      "GFZ95A\n",
      "GRIM4c4\n",
      "GRIM4s4\n",
      "JGM3\n",
      "JGM2\n",
      "JGM2s\n",
      "GFZ93B\n",
      "GFZ93a\n",
      "JGM1\n",
      "JGM1s\n",
      "OGE12\n",
      "GRIM4C3\n",
      "GRIM4s3\n",
      "OSU91a\n",
      "GRIM4c2\n",
      "GRIM4s2\n",
      "GEMT3\n",
      "GEMT3s\n",
      "TEG2B\n",
      "TEG2\n",
      "GRIM4c1\n",
      "GRIM4s1\n",
      "GEMT2\n",
      "GEMT2S\n",
      "POEM-L1\n",
      "TEG1\n",
      "OSU89b\n",
      "OSU89a\n",
      "GEMT1\n",
      "OSU86f\n",
      "OSU86e\n",
      "OSU86d\n",
      "OSU86c\n",
      "GPM2\n",
      "GRIM3L1\n",
      "HAJELA84\n",
      "GPM1\n",
      "GRIM3B\n",
      "GEML2\n",
      "GRIM3\n",
      "OSU81\n",
      "GEM10C\n",
      "OSU78\n",
      "GEM10b\n",
      "GEM10a\n",
      "GEM10\n",
      "GEM9\n",
      "GRIM2\n",
      "GEM8\n",
      "GEM7\n",
      "HARMOGRAV\n",
      "GRIM1\n",
      "KOCH74\n",
      "GEM6\n",
      "GEM5\n",
      "OSU73\n",
      "SE3\n",
      "WGS72\n",
      "GEM4\n",
      "GEM3\n",
      "GEM2\n",
      "GEM1\n",
      "KOCH71\n",
      "KOCH70\n",
      "SE2\n",
      "OSU68\n",
      "WGS66\n"
     ]
    }
   ],
   "source": [
    "for model in list_model:\n",
    "    print(model)"
   ]
  },
  {
   "cell_type": "code",
   "execution_count": 13,
   "id": "1c6cac82",
   "metadata": {},
   "outputs": [],
   "source": [
    "time.sleep(2)\n",
    "# browser.get(\"http://icgem.gfz-potsdam.de/home\")\n",
    "browser.close()"
   ]
  }
 ],
 "metadata": {
  "kernelspec": {
   "display_name": "Python 3 (ipykernel)",
   "language": "python",
   "name": "python3"
  },
  "language_info": {
   "codemirror_mode": {
    "name": "ipython",
    "version": 3
   },
   "file_extension": ".py",
   "mimetype": "text/x-python",
   "name": "python",
   "nbconvert_exporter": "python",
   "pygments_lexer": "ipython3",
   "version": "3.9.7"
  },
  "varInspector": {
   "cols": {
    "lenName": 16,
    "lenType": 16,
    "lenVar": 40
   },
   "kernels_config": {
    "python": {
     "delete_cmd_postfix": "",
     "delete_cmd_prefix": "del ",
     "library": "var_list.py",
     "varRefreshCmd": "print(var_dic_list())"
    },
    "r": {
     "delete_cmd_postfix": ") ",
     "delete_cmd_prefix": "rm(",
     "library": "var_list.r",
     "varRefreshCmd": "cat(var_dic_list()) "
    }
   },
   "types_to_exclude": [
    "module",
    "function",
    "builtin_function_or_method",
    "instance",
    "_Feature"
   ],
   "window_display": false
  }
 },
 "nbformat": 4,
 "nbformat_minor": 5
}
