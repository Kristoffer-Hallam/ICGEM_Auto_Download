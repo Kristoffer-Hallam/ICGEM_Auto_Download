{
 "cells": [
  {
   "cell_type": "code",
   "execution_count": 1,
   "id": "6b543069",
   "metadata": {},
   "outputs": [],
   "source": [
    "from selenium import webdriver\n",
    "from webdriver_manager.chrome import ChromeDriverManager\n",
    "from selenium.webdriver.common.keys import Keys\n",
    "from selenium.webdriver.common.by import By\n",
    "import time\n",
    "\n",
    "def load_driver():\n",
    "    ''' Opens Chrome driver and sets the ICGEM website\n",
    "    '''\n",
    "    #r/Users/admin/Learn_Python2/Hashtag_Lira/Plataforma_Ensino/Automation_Python-Web/chromedriver\n",
    "    browser = webdriver.Chrome(ChromeDriverManager().install())#executable_path=path)\n",
    "    browser.get(\"https://www.linkedin.com/\")\n",
    "    time.sleep(2)\n",
    "    return browser\n",
    "\n",
    "browser = load_driver()"
   ]
  },
  {
   "cell_type": "code",
   "execution_count": null,
   "id": "d3605658",
   "metadata": {},
   "outputs": [],
   "source": []
  }
 ],
 "metadata": {
  "kernelspec": {
   "display_name": "Python 3 (ipykernel)",
   "language": "python",
   "name": "python3"
  },
  "language_info": {
   "codemirror_mode": {
    "name": "ipython",
    "version": 3
   },
   "file_extension": ".py",
   "mimetype": "text/x-python",
   "name": "python",
   "nbconvert_exporter": "python",
   "pygments_lexer": "ipython3",
   "version": "3.9.7"
  }
 },
 "nbformat": 4,
 "nbformat_minor": 5
}
